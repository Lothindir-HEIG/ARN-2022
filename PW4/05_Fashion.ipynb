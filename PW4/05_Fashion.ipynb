{
  "cells": [
    {
      "cell_type": "markdown",
      "metadata": {
        "id": "HkLUJVa1bfNW"
      },
      "source": [
        "# Convolutional Neural Networks\n",
        "This notebook will guide you through the use of the `keras` package to train convolutional neural networks for handwritten digits classification. You are going to use the `mnist` dataset from LeCun et al. 1998."
      ]
    },
    {
      "cell_type": "markdown",
      "metadata": {
        "id": "SjQUQygFbfNb"
      },
      "source": [
        "## Loading the packages"
      ]
    },
    {
      "cell_type": "code",
      "execution_count": null,
      "metadata": {
        "id": "h7O8MewabfNj"
      },
      "outputs": [],
      "source": [
        "#%pip install tensorflow-gpu --upgrade\n",
        "#%pip install keras --upgrade\n",
        "\n",
        "import numpy as np\n",
        "import matplotlib\n",
        "from matplotlib import pyplot as pl\n",
        "\n",
        "from keras.datasets import fashion_mnist\n",
        "from keras.models import Model\n",
        "from keras.layers.core import Dense, Dropout, Flatten\n",
        "from tensorflow.keras.optimizers import RMSprop\n",
        "from keras.utils import np_utils\n",
        "from tensorflow.keras.utils import plot_model\n",
        "from keras.layers.convolutional import Conv2D, MaxPooling2D, AveragePooling2D\n",
        "from keras.layers import Input, Add\n",
        "from sklearn import metrics as me\n",
        "from scipy import stats\n",
        "\n",
        "%matplotlib inline"
      ]
    },
    {
      "cell_type": "code",
      "execution_count": null,
      "metadata": {
        "id": "zLnJdOhkyuic"
      },
      "outputs": [],
      "source": [
        "def plot_confusion_matrix(conf_matrix, classes_names):\n",
        "    fig, ax = pl.subplots()\n",
        "    im = ax.imshow(conf_matrix, cmap=\"viridis\")\n",
        "\n",
        "    # Show all ticks and label them with the respective list entries\n",
        "    ax.set_xticks(np.arange(len(classes_names)))#, labels=classes_names)\n",
        "    ax.set_yticks(np.arange(len(classes_names)))#, labels=classes_names)\n",
        "\n",
        "    # Rotate the tick labels and set their alignment.\n",
        "    pl.setp(ax.get_xticklabels(), rotation=45, ha=\"right\", rotation_mode=\"anchor\")\n",
        "\n",
        "    # Loop over data dimensions and create text annotations.\n",
        "    for i in range(len(classes_names)):\n",
        "        for j in range(len(classes_names)):\n",
        "            text = ax.text(j, i, conf_matrix[i, j], fontweight=\"bold\", fontsize=\"large\", ha=\"center\", va=\"center\", c=\"r\")\n",
        "\n",
        "    pl.title('Confusion matrix')\n",
        "    pl.xlabel('Predicted')\n",
        "    pl.ylabel('Excpected')\n",
        "    fig.set_figwidth(7)\n",
        "    fig.set_figheight(7)\n",
        "    fig.tight_layout()\n",
        "    pl.show()"
      ]
    },
    {
      "cell_type": "markdown",
      "metadata": {
        "id": "vbttXt8SbfOH"
      },
      "source": [
        "First, create some useful functions"
      ]
    },
    {
      "cell_type": "code",
      "execution_count": null,
      "metadata": {
        "id": "jAR9jPgybfOO"
      },
      "outputs": [],
      "source": [
        "def build_grid_of_images(array):\n",
        "    assert len(array.shape) == 3\n",
        "    dim_0 = np.sqrt(array.shape[0])\n",
        "    assert dim_0.is_integer()\n",
        "    \n",
        "    temp_out = np.reshape(array, (dim_0, dim_0, array.shape[1], array.shape[2]))\n",
        "    temp_out = np.rollaxis(temp_out, 1, 3)\n",
        "    return np.reshape(temp_out, (dim_0*array.shape[1], dim_0*array.shape[2]))\n",
        "\n",
        "def plot_conv_layer_output(temp_out, title):\n",
        "    temp_to_plot = build_grid_of_images(temp_out)\n",
        "    pl.imshow(temp_to_plot, interpolation='nearest', cmap=pl.get_cmap('Greys'))\n",
        "    ax = pl.gca()\n",
        "    ax.set_xticks(np.arange(-0.5, temp_to_plot.shape[0]+0.5, temp_out.shape[1]))    \n",
        "    ax.set_yticks(np.arange(-0.5, temp_to_plot.shape[0]+0.5, temp_out.shape[2]))\n",
        "    pl.grid()\n",
        "    pl.tick_params(axis='both', which='both', bottom='off', top='off', left='off', right='off', labelbottom='off', labelleft='off')\n",
        "    pl.title(title)\n",
        "\n",
        "def plot_dense_layer_output(temp_out, title):\n",
        "    pl.bar(np.arange(temp_out.shape[1])-0.4, temp_out[0,:])\n",
        "    pl.xlim(-0.5, temp_out.shape[1])\n",
        "    pl.grid()\n",
        "    pl.title(title)\n",
        "\n",
        "def get_f1_score_for_class (conf_mat, number, nb_classes = 2):\n",
        "   TP = conf_mat[number, number]\n",
        "   TN = sum([ conf_mat[i][i] for i in range(nb_classes) if i != number ])\n",
        "   FP = sum([ conf_mat[number][i] for i in range(nb_classes) if i != number ])\n",
        "   FN = sum([ conf_mat[i][number] for i in range(nb_classes) if i != number ])\n",
        "\n",
        "   precision = TP / (TP + FP)\n",
        "   recall    = TP / (TP + FN)\n",
        "   f1_score  = 2 * precision * recall / (precision + recall)\n",
        "   return f1_score"
      ]
    },
    {
      "cell_type": "markdown",
      "metadata": {
        "id": "3fVOW4jGbfOb"
      },
      "source": [
        "Load the `mnist` dataset and normalize in the range [0, 1]"
      ]
    },
    {
      "cell_type": "code",
      "execution_count": null,
      "metadata": {
        "colab": {
          "base_uri": "https://localhost:8080/"
        },
        "id": "2H2K3S4MbfOf",
        "outputId": "0e7dad31-342c-4e7c-9096-908cac66a02c"
      },
      "outputs": [],
      "source": [
        "(X_train, y_train), (X_test, y_test) = fashion_mnist.load_data()\n",
        "\n",
        "n_train, height, width = X_train.shape\n",
        "n_test, _, _ = X_test.shape\n",
        "\n",
        "X_train = X_train.reshape(n_train, height, width, 1).astype('float32')\n",
        "X_test = X_test.reshape(n_test, height, width, 1).astype('float32')\n",
        "\n",
        "X_train /= 255.0\n",
        "X_test /= 255.0\n",
        "\n",
        "n_classes = 10\n",
        "\n",
        "print(n_train, 'train samples')\n",
        "print(n_test, 'test samples')\n",
        "\n",
        "# convert class vectors to binary class matrices\n",
        "Y_train = np_utils.to_categorical(y_train, n_classes)\n",
        "Y_test = np_utils.to_categorical(y_test, n_classes)"
      ]
    },
    {
      "cell_type": "markdown",
      "metadata": {
        "id": "2B-WNiQUbfOq"
      },
      "source": [
        "Create the CNN and show its architecture"
      ]
    },
    {
      "cell_type": "code",
      "execution_count": null,
      "metadata": {
        "colab": {
          "base_uri": "https://localhost:8080/",
          "height": 1000
        },
        "id": "yhOscSNPbfOt",
        "outputId": "22c3c13c-ed0f-4b35-aeb3-295696c0a970"
      },
      "outputs": [],
      "source": [
        "l0 = Input(shape=(height, width, 1), name='l0')\n",
        "\n",
        "l1 = Conv2D(9, (7, 7), padding='same', activation='relu', name='l1')(l0)\n",
        "l1_mp = MaxPooling2D(pool_size=(2, 2), name='l1_mp')(l1)\n",
        "\n",
        "l2 = Conv2D(9, (5, 5), padding='same', activation='relu', name='l2')(l1_mp)\n",
        "l2_2 = Conv2D(9, (3, 3), padding='same', activation='relu', name='l2_2')(l2)\n",
        "l2_add = Add()([l2_2, l1_mp])\n",
        "l2_ap = MaxPooling2D(pool_size=(2,2), name='l2_ap')(l2_add)\n",
        "\n",
        "l3 = Conv2D(18, (3, 3), padding='same', activation='relu', name='l3')(l2_ap)\n",
        "l3_mp = MaxPooling2D(pool_size=(2, 2), name='l3_mp')(l3)\n",
        "\n",
        "dropout = Dropout(rate=0.3)(l3_mp)\n",
        "\n",
        "flat = Flatten(name='flat')(dropout)\n",
        "\n",
        "l5 = Dense(32, activation='relu', name='l5')(flat)\n",
        "\n",
        "l6 = Dense(n_classes, activation='softmax', name='l7')(l5)\n",
        "\n",
        "model = Model(inputs=l0, outputs=l6, name=\"CNN-fashion\")\n",
        "model.summary()\n",
        "plot_model(model, \"mnist_fashion.png\", show_shapes=True)\n"
      ]
    },
    {
      "cell_type": "markdown",
      "metadata": {
        "id": "sP_cugPCbfO6"
      },
      "source": [
        "Define some constants and train de CNN"
      ]
    },
    {
      "cell_type": "code",
      "execution_count": null,
      "metadata": {
        "colab": {
          "base_uri": "https://localhost:8080/"
        },
        "id": "l8eKqD80bfPB",
        "outputId": "b34212e4-22a6-455c-aad3-36e5876e50f5"
      },
      "outputs": [],
      "source": [
        "batch_size = 128\n",
        "n_epoch = 25\n",
        "\n",
        "model.compile(loss='categorical_crossentropy', optimizer=RMSprop(), metrics=['accuracy'])\n",
        "history = model.fit(X_train, Y_train, batch_size=batch_size, epochs=n_epoch, verbose=1, validation_data=(X_test, Y_test))"
      ]
    },
    {
      "cell_type": "markdown",
      "metadata": {
        "id": "IBX2Tc_0bfPK"
      },
      "source": [
        "Show the performance of the model"
      ]
    },
    {
      "cell_type": "code",
      "execution_count": null,
      "metadata": {
        "colab": {
          "base_uri": "https://localhost:8080/",
          "height": 330
        },
        "id": "WeaMjl-EbfPS",
        "outputId": "79881d0d-7f87-4ba7-b700-accb9bc86e65"
      },
      "outputs": [],
      "source": [
        "pl.plot(history.history['loss'], label='Training')\n",
        "pl.plot(history.history['val_loss'], label='Testing')\n",
        "pl.title(f'Loss over time')\n",
        "pl.xlabel('Epoch')\n",
        "pl.ylabel('Loss')\n",
        "pl.legend()\n",
        "pl.grid()\n",
        "\n",
        "score = model.evaluate(X_test, Y_test, verbose=0)\n",
        "print(f'Test score: {round(score[0], 4)}')\n",
        "print(f'Test accuracy: {round(score[1]*100, 2)}%')"
      ]
    },
    {
      "cell_type": "markdown",
      "metadata": {
        "id": "rXNZ2ZHSbfPm"
      },
      "source": [
        "Confusion matrix"
      ]
    },
    {
      "cell_type": "code",
      "execution_count": null,
      "metadata": {
        "colab": {
          "base_uri": "https://localhost:8080/",
          "height": 687
        },
        "id": "XfgRipFebfPm",
        "outputId": "182f2163-15b7-4ad6-e417-35730e6a7282"
      },
      "outputs": [],
      "source": [
        "pred = model.predict_on_batch(X_test)\n",
        "pred = np.argmax(pred, axis=-1)\n",
        "cm = me.confusion_matrix(y_test, pred)\n",
        "classes_name = [\"T-shirt/top\", \"Trouser\", \"Pullover\", \"Dress\", \"Coat\", \"Sandal\", \"Shirt\", \"Sneaker\", \"Bag\", \"Ankle boot\"]\n",
        "classes = ['0', '1', '2', '3', '4', '5', '6', '7', '8', '9']\n",
        "plot_confusion_matrix(cm, classes)\n",
        "\n",
        "for i in range(len(classes)):\n",
        "  print(f'F1-Score for class \"{classes_name[i]}\": {round(get_f1_score_for_class(cm, i, len(classes)), 2)}')\n"
      ]
    }
  ],
  "metadata": {
    "accelerator": "GPU",
    "colab": {
      "collapsed_sections": [],
      "name": "05_Fashion.ipynb",
      "provenance": []
    },
    "kernelspec": {
      "display_name": "Python 3",
      "language": "python",
      "name": "python3"
    },
    "language_info": {
      "codemirror_mode": {
        "name": "ipython",
        "version": 3
      },
      "file_extension": ".py",
      "mimetype": "text/x-python",
      "name": "python",
      "nbconvert_exporter": "python",
      "pygments_lexer": "ipython3",
      "version": "3.10.0"
    }
  },
  "nbformat": 4,
  "nbformat_minor": 0
}
