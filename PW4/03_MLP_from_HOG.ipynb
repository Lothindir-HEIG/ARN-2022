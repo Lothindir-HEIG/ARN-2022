{
  "cells": [
    {
      "cell_type": "markdown",
      "metadata": {
        "id": "X_wPegydbafH"
      },
      "source": [
        "# Computing features to train a MLP\n",
        "This notebook will guide you through the use of the `keras` package to train a multilayer perceptron for handwritten digits classification. You are going to computing the histogram of gradients from the images in the `mnist` dataset (LeCun et al. 1998)"
      ]
    },
    {
      "cell_type": "markdown",
      "metadata": {
        "id": "61oGWRyMbafJ"
      },
      "source": [
        "## Loading the packages"
      ]
    },
    {
      "cell_type": "code",
      "execution_count": null,
      "metadata": {
        "id": "duI9Ar-8bafS"
      },
      "outputs": [],
      "source": [
        "#%pip install tensorflow --upgrade\n",
        "#%pip install keras --upgrade\n",
        "\n",
        "import numpy as np\n",
        "from matplotlib import pyplot as pl\n",
        "\n",
        "from skimage.feature import hog\n",
        "from skimage import data, color, exposure\n",
        "\n",
        "from keras.datasets import mnist\n",
        "from tensorflow.keras.utils import plot_model\n",
        "from keras.models import Sequential\n",
        "from keras.layers.core import Dense, Dropout\n",
        "from tensorflow.keras.optimizers import RMSprop\n",
        "from keras.utils import np_utils\n",
        "from sklearn import metrics as me\n",
        "\n",
        "%matplotlib inline"
      ]
    },
    {
      "cell_type": "code",
      "execution_count": null,
      "metadata": {
        "id": "t9klXZO8h91t"
      },
      "outputs": [],
      "source": [
        "def plot_confusion_matrix(conf_matrix, classes_names):\n",
        "    fig, ax = pl.subplots()\n",
        "    im = ax.imshow(conf_matrix, cmap=\"viridis\")\n",
        "\n",
        "    # Show all ticks and label them with the respective list entries\n",
        "    ax.set_xticks(np.arange(len(classes_names)))#, labels=classes_names)\n",
        "    ax.set_yticks(np.arange(len(classes_names)))#, labels=classes_names)\n",
        "\n",
        "    # Rotate the tick labels and set their alignment.\n",
        "    pl.setp(ax.get_xticklabels(), rotation=45, ha=\"right\", rotation_mode=\"anchor\")\n",
        "\n",
        "    # Loop over data dimensions and create text annotations.\n",
        "    for i in range(len(classes_names)):\n",
        "        for j in range(len(classes_names)):\n",
        "            text = ax.text(j, i, conf_matrix[i, j], fontweight=\"bold\", fontsize=\"large\", ha=\"center\", va=\"center\", c=\"r\")\n",
        "\n",
        "    pl.title('Confusion matrix')\n",
        "    pl.xlabel('Predicted')\n",
        "    pl.ylabel('Excpected')\n",
        "    fig.set_figwidth(7)\n",
        "    fig.set_figheight(7)\n",
        "    fig.tight_layout()\n",
        "    pl.show()"
      ]
    },
    {
      "cell_type": "markdown",
      "metadata": {
        "id": "KpPmUqiRbafz"
      },
      "source": [
        "Load the `mnist` dataset and normalize in the range [0, 1]"
      ]
    },
    {
      "cell_type": "code",
      "execution_count": null,
      "metadata": {
        "colab": {
          "base_uri": "https://localhost:8080/"
        },
        "id": "verKKFaFbaf6",
        "outputId": "459d5657-3340-4828-abd5-664532fbcd5f"
      },
      "outputs": [],
      "source": [
        "(X_train, y_train), (X_test, y_test) = mnist.load_data()\n",
        "\n",
        "n_train, height, width = X_train.shape\n",
        "n_test, _, _ = X_test.shape\n",
        "\n",
        "X_train = X_train.reshape(n_train, height, width, 1).astype('float32')\n",
        "X_test = X_test.reshape(n_test, height, width, 1).astype('float32')\n",
        "\n",
        "X_train /= 255.0\n",
        "X_test /= 255.0\n",
        "\n",
        "n_classes = 10\n",
        "\n",
        "print(n_train, 'train samples')\n",
        "print(n_test, 'test samples')\n",
        "\n",
        "# convert class vectors to binary class matrices\n",
        "Y_train = np_utils.to_categorical(y_train, n_classes)\n",
        "Y_test = np_utils.to_categorical(y_test, n_classes)"
      ]
    },
    {
      "cell_type": "markdown",
      "metadata": {
        "id": "TazeB7LLbagE"
      },
      "source": [
        "### An example of how to compute the histogram of gradients\n",
        "Let's compute the HOG for one image in the test dataset"
      ]
    },
    {
      "cell_type": "code",
      "execution_count": null,
      "metadata": {
        "id": "cL-609oKbagI"
      },
      "outputs": [],
      "source": [
        "n_orientations = 8\n",
        "pix_p_cell = 4\n",
        "hog_size = int(height * width * n_orientations / (pix_p_cell * pix_p_cell))"
      ]
    },
    {
      "cell_type": "code",
      "execution_count": null,
      "metadata": {
        "id": "r2DA2Da_bage"
      },
      "outputs": [],
      "source": [
        "fd, hog_image = hog(X_test[0,:,:,0], orientations=n_orientations, pixels_per_cell=(pix_p_cell, pix_p_cell), cells_per_block=(1, 1), visualize=True)\n",
        "hog_image_rescaled = exposure.rescale_intensity(hog_image, in_range=(0, 0.02))"
      ]
    },
    {
      "cell_type": "markdown",
      "metadata": {
        "id": "s2Ow4uJtbago"
      },
      "source": [
        "Show the image and the corresponding gradients"
      ]
    },
    {
      "cell_type": "code",
      "execution_count": null,
      "metadata": {
        "colab": {
          "base_uri": "https://localhost:8080/",
          "height": 351
        },
        "id": "83RZeljKbagu",
        "outputId": "8ee15c03-4cd4-4d09-d060-6b0a04b467ad"
      },
      "outputs": [],
      "source": [
        "fig, (ax1, ax2) = pl.subplots(1, 2, figsize=(12, 6), sharex=True, sharey=True)\n",
        "ax1.axis('off')\n",
        "ax1.imshow(X_test[0,:,:,0], cmap=pl.get_cmap('Greys'), interpolation='nearest')\n",
        "ax1.set_title('Input image')\n",
        "ax1.set_adjustable('box')\n",
        "\n",
        "ax2.axis('off')\n",
        "ax2.imshow(hog_image_rescaled, cmap=pl.get_cmap('Greys'), interpolation='nearest')\n",
        "ax2.set_title('Histogram of Oriented Gradients')\n",
        "ax1.set_adjustable('box')"
      ]
    },
    {
      "cell_type": "markdown",
      "metadata": {
        "id": "3Yv-ep9ybag4"
      },
      "source": [
        "Compute the HOGs for the train and test datasets\n",
        "\n",
        "> Indented block\n",
        "\n"
      ]
    },
    {
      "cell_type": "code",
      "execution_count": null,
      "metadata": {
        "colab": {
          "base_uri": "https://localhost:8080/"
        },
        "id": "y8Q3cdrebag6",
        "outputId": "b1f808a9-e20f-4e08-946e-fa48a5f26906"
      },
      "outputs": [],
      "source": [
        "X_train_hog = np.zeros((X_train.shape[0], hog_size))\n",
        "X_test_hog = np.zeros((X_test.shape[0], hog_size))\n",
        "\n",
        "for i in np.arange(X_train_hog.shape[0]):\n",
        "    X_train_hog[i,:] = hog(X_train[i,:,:,0], orientations=n_orientations, pixels_per_cell=(pix_p_cell, pix_p_cell), cells_per_block=(1, 1), visualize=False)\n",
        "print('X_train done')\n",
        "\n",
        "for i in np.arange(X_test_hog.shape[0]):\n",
        "    X_test_hog[i,:] = hog(X_test[i,:,:,0], orientations=n_orientations, pixels_per_cell=(pix_p_cell, pix_p_cell), cells_per_block=(1, 1), visualize=False)\n",
        "print('X_test done')"
      ]
    },
    {
      "cell_type": "markdown",
      "metadata": {
        "id": "kos0aTYmbahU"
      },
      "source": [
        "Create the MLP"
      ]
    },
    {
      "cell_type": "code",
      "execution_count": null,
      "metadata": {
        "colab": {
          "base_uri": "https://localhost:8080/",
          "height": 683
        },
        "id": "NnawtqztbahV",
        "outputId": "b1a1c360-2846-466a-a92c-6dbcb4f3ae30"
      },
      "outputs": [],
      "source": [
        "model = Sequential(name=\"MLP-features\")\n",
        "model.add(Dense(128, input_shape=(hog_size,), activation='relu', name=\"Input\"))\n",
        "model.add(Dropout(0.25))\n",
        "model.add(Dense(n_classes, activation='softmax', name=\"Output\"))\n",
        "\n",
        "model.summary()\n",
        "plot_model(model, show_shapes=True)"
      ]
    },
    {
      "cell_type": "markdown",
      "metadata": {
        "id": "EGeviXzJbahY"
      },
      "source": [
        "Define some constants and train the MLP"
      ]
    },
    {
      "cell_type": "code",
      "execution_count": null,
      "metadata": {
        "colab": {
          "base_uri": "https://localhost:8080/"
        },
        "id": "laKFY8vcbahZ",
        "outputId": "f31b108b-1e65-4800-b7fa-e791dc1751a5"
      },
      "outputs": [],
      "source": [
        "batch_size = 128\n",
        "n_epoch = 15\n",
        "\n",
        "model.compile(loss='categorical_crossentropy', optimizer=RMSprop(), metrics=['accuracy'])\n",
        "history = model.fit(X_train_hog, Y_train,\n",
        "                    batch_size=batch_size, epochs=n_epoch,\n",
        "                    verbose=1, validation_data=(X_test_hog, Y_test))"
      ]
    },
    {
      "cell_type": "markdown",
      "metadata": {
        "id": "aezTZuCMbahf"
      },
      "source": [
        "Show the performance of the model"
      ]
    },
    {
      "cell_type": "code",
      "execution_count": null,
      "metadata": {
        "colab": {
          "base_uri": "https://localhost:8080/",
          "height": 300
        },
        "id": "u6E66I52bahg",
        "outputId": "dfcfff7d-03fa-48bc-c88c-0c74d5e6e54e"
      },
      "outputs": [],
      "source": [
        "pl.plot(history.history['loss'], label='Training')\n",
        "pl.plot(history.history['val_loss'], label='Testing')\n",
        "pl.legend()\n",
        "pl.grid()\n",
        "\n",
        "score = model.evaluate(X_test_hog, Y_test, verbose=0)\n",
        "print(f'Test score: {round(score[0], 4)}')\n",
        "print(f'Test accuracy: {round(score[1]*100, 2)}%')"
      ]
    },
    {
      "cell_type": "markdown",
      "metadata": {
        "id": "axdxLHYMbahu"
      },
      "source": [
        "Confusion matrix"
      ]
    },
    {
      "cell_type": "code",
      "execution_count": null,
      "metadata": {
        "colab": {
          "base_uri": "https://localhost:8080/",
          "height": 513
        },
        "id": "Mhm1wjNfbahv",
        "outputId": "a9cafba0-cb55-41fa-95a9-1fdea0c85ad3"
      },
      "outputs": [],
      "source": [
        "pred = model.predict(X_test_hog)\n",
        "pred = np.argmax(pred, axis=-1)\n",
        "cm = me.confusion_matrix(y_test, pred)\n",
        "classes = ['0', '1', '2', '3', '4', '5', '6', '7', '8', '9']\n",
        "plot_confusion_matrix(cm, classes)"
      ]
    }
  ],
  "metadata": {
    "accelerator": "GPU",
    "colab": {
      "collapsed_sections": [],
      "name": "03_MLP_from_HOG.ipynb",
      "provenance": []
    },
    "kernelspec": {
      "display_name": "Python 3",
      "language": "python",
      "name": "python3"
    },
    "language_info": {
      "codemirror_mode": {
        "name": "ipython",
        "version": 3
      },
      "file_extension": ".py",
      "mimetype": "text/x-python",
      "name": "python",
      "nbconvert_exporter": "python",
      "pygments_lexer": "ipython3",
      "version": "3.10.0"
    }
  },
  "nbformat": 4,
  "nbformat_minor": 0
}
